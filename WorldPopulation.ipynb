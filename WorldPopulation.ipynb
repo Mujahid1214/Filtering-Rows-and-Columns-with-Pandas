{
 "cells": [
  {
   "cell_type": "code",
   "execution_count": 21,
   "outputs": [],
   "source": [
    "import pandas as pd\n",
    "df = pd.read_csv('world_population.csv')"
   ],
   "metadata": {
    "collapsed": false,
    "ExecuteTime": {
     "end_time": "2025-10-05T09:09:41.288169800Z",
     "start_time": "2025-10-05T09:09:41.260325600Z"
    }
   }
  },
  {
   "cell_type": "code",
   "execution_count": 30,
   "outputs": [
    {
     "data": {
      "text/plain": "     Rank CCA3 Country      Capital      Continent  2022 Population  \\\n131    10  MEX  Mexico  Mexico City  North America      127504125.0   \n\n     2020 Population  2015 Population  2010 Population  2000 Population  \\\n131      125998302.0      120149897.0      112532401.0       97873442.0   \n\n     1990 Population  1980 Population  1970 Population  Area (km²)  \\\n131       81720428.0       67705186.0       50289306.0   1964375.0   \n\n     Density (per km²)  Growth Rate  World Population Percentage  \n131            64.9082       1.0063                          1.6  ",
      "text/html": "<div>\n<style scoped>\n    .dataframe tbody tr th:only-of-type {\n        vertical-align: middle;\n    }\n\n    .dataframe tbody tr th {\n        vertical-align: top;\n    }\n\n    .dataframe thead th {\n        text-align: right;\n    }\n</style>\n<table border=\"1\" class=\"dataframe\">\n  <thead>\n    <tr style=\"text-align: right;\">\n      <th></th>\n      <th>Rank</th>\n      <th>CCA3</th>\n      <th>Country</th>\n      <th>Capital</th>\n      <th>Continent</th>\n      <th>2022 Population</th>\n      <th>2020 Population</th>\n      <th>2015 Population</th>\n      <th>2010 Population</th>\n      <th>2000 Population</th>\n      <th>1990 Population</th>\n      <th>1980 Population</th>\n      <th>1970 Population</th>\n      <th>Area (km²)</th>\n      <th>Density (per km²)</th>\n      <th>Growth Rate</th>\n      <th>World Population Percentage</th>\n    </tr>\n  </thead>\n  <tbody>\n    <tr>\n      <th>131</th>\n      <td>10</td>\n      <td>MEX</td>\n      <td>Mexico</td>\n      <td>Mexico City</td>\n      <td>North America</td>\n      <td>127504125.0</td>\n      <td>125998302.0</td>\n      <td>120149897.0</td>\n      <td>112532401.0</td>\n      <td>97873442.0</td>\n      <td>81720428.0</td>\n      <td>67705186.0</td>\n      <td>50289306.0</td>\n      <td>1964375.0</td>\n      <td>64.9082</td>\n      <td>1.0063</td>\n      <td>1.6</td>\n    </tr>\n  </tbody>\n</table>\n</div>"
     },
     "execution_count": 30,
     "metadata": {},
     "output_type": "execute_result"
    }
   ],
   "source": [
    "df[df['Rank'] <= 10]"
   ],
   "metadata": {
    "collapsed": false,
    "ExecuteTime": {
     "end_time": "2025-10-05T09:09:49.302423700Z",
     "start_time": "2025-10-05T09:09:49.255391200Z"
    }
   }
  },
  {
   "cell_type": "code",
   "execution_count": 31,
   "outputs": [
    {
     "data": {
      "text/plain": "    Rank CCA3     Country   Capital      Continent  2022 Population  \\\n16     8  BGD  Bangladesh     Dhaka           Asia      171186372.0   \n27     7  BRA      Brazil  Brasilia  South America      215313498.0   \n\n    2020 Population  2015 Population  2010 Population  2000 Population  \\\n16      167420951.0      157830000.0      148391139.0      129193327.0   \n27      213196304.0      205188205.0      196353492.0      175873720.0   \n\n    1990 Population  1980 Population  1970 Population  Area (km²)  \\\n16      107147651.0       83929765.0       67541860.0    147570.0   \n27      150706446.0      122288383.0       96369875.0   8515767.0   \n\n    Density (per km²)  Growth Rate  World Population Percentage  \n16          1160.0350       1.0108                         2.15  \n27            25.2841       1.0046                         2.70  ",
      "text/html": "<div>\n<style scoped>\n    .dataframe tbody tr th:only-of-type {\n        vertical-align: middle;\n    }\n\n    .dataframe tbody tr th {\n        vertical-align: top;\n    }\n\n    .dataframe thead th {\n        text-align: right;\n    }\n</style>\n<table border=\"1\" class=\"dataframe\">\n  <thead>\n    <tr style=\"text-align: right;\">\n      <th></th>\n      <th>Rank</th>\n      <th>CCA3</th>\n      <th>Country</th>\n      <th>Capital</th>\n      <th>Continent</th>\n      <th>2022 Population</th>\n      <th>2020 Population</th>\n      <th>2015 Population</th>\n      <th>2010 Population</th>\n      <th>2000 Population</th>\n      <th>1990 Population</th>\n      <th>1980 Population</th>\n      <th>1970 Population</th>\n      <th>Area (km²)</th>\n      <th>Density (per km²)</th>\n      <th>Growth Rate</th>\n      <th>World Population Percentage</th>\n    </tr>\n  </thead>\n  <tbody>\n    <tr>\n      <th>16</th>\n      <td>8</td>\n      <td>BGD</td>\n      <td>Bangladesh</td>\n      <td>Dhaka</td>\n      <td>Asia</td>\n      <td>171186372.0</td>\n      <td>167420951.0</td>\n      <td>157830000.0</td>\n      <td>148391139.0</td>\n      <td>129193327.0</td>\n      <td>107147651.0</td>\n      <td>83929765.0</td>\n      <td>67541860.0</td>\n      <td>147570.0</td>\n      <td>1160.0350</td>\n      <td>1.0108</td>\n      <td>2.15</td>\n    </tr>\n    <tr>\n      <th>27</th>\n      <td>7</td>\n      <td>BRA</td>\n      <td>Brazil</td>\n      <td>Brasilia</td>\n      <td>South America</td>\n      <td>215313498.0</td>\n      <td>213196304.0</td>\n      <td>205188205.0</td>\n      <td>196353492.0</td>\n      <td>175873720.0</td>\n      <td>150706446.0</td>\n      <td>122288383.0</td>\n      <td>96369875.0</td>\n      <td>8515767.0</td>\n      <td>25.2841</td>\n      <td>1.0046</td>\n      <td>2.70</td>\n    </tr>\n  </tbody>\n</table>\n</div>"
     },
     "execution_count": 31,
     "metadata": {},
     "output_type": "execute_result"
    }
   ],
   "source": [
    "specific_countries = ['Bangladesh', 'Brazil']\n",
    "df[df['Country'].isin(specific_countries)]"
   ],
   "metadata": {
    "collapsed": false,
    "ExecuteTime": {
     "end_time": "2025-10-05T09:37:41.460724800Z",
     "start_time": "2025-10-05T09:37:41.429337Z"
    }
   }
  },
  {
   "cell_type": "code",
   "execution_count": 33,
   "outputs": [
    {
     "data": {
      "text/plain": "     Rank CCA3                       Country           Capital      Continent  \\\n219    97  ARE          United Arab Emirates         Abu Dhabi           Asia   \n220    21  GBR                United Kingdom            London         Europe   \n221     3  USA                 United States  Washington, D.C.  North America   \n222   200  VIR  United States Virgin Islands  Charlotte Amalie  North America   \n\n     2022 Population  2020 Population  2015 Population  2010 Population  \\\n219        9441129.0        9287289.0        8916899.0        8481771.0   \n220       67508936.0       67059474.0       65224364.0       62760039.0   \n221      338289857.0      335942003.0      324607776.0      311182845.0   \n222          99465.0         100442.0         102803.0         106142.0   \n\n     2000 Population  1990 Population  1980 Population  1970 Population  \\\n219        3275333.0        1900151.0        1014048.0         298084.0   \n220       58850043.0       57210442.0       56326328.0       55650166.0   \n221      282398554.0      248083732.0      223140018.0      200328340.0   \n222         108185.0         100685.0          96640.0          63446.0   \n\n     Area (km²)  Density (per km²)  Growth Rate  World Population Percentage  \n219     83600.0           112.9322       1.0081                         0.12  \n220    242900.0           277.9289       1.0034                         0.85  \n221   9372610.0            36.0935       1.0038                         4.24  \n222       347.0           286.6427       0.9937                         0.00  ",
      "text/html": "<div>\n<style scoped>\n    .dataframe tbody tr th:only-of-type {\n        vertical-align: middle;\n    }\n\n    .dataframe tbody tr th {\n        vertical-align: top;\n    }\n\n    .dataframe thead th {\n        text-align: right;\n    }\n</style>\n<table border=\"1\" class=\"dataframe\">\n  <thead>\n    <tr style=\"text-align: right;\">\n      <th></th>\n      <th>Rank</th>\n      <th>CCA3</th>\n      <th>Country</th>\n      <th>Capital</th>\n      <th>Continent</th>\n      <th>2022 Population</th>\n      <th>2020 Population</th>\n      <th>2015 Population</th>\n      <th>2010 Population</th>\n      <th>2000 Population</th>\n      <th>1990 Population</th>\n      <th>1980 Population</th>\n      <th>1970 Population</th>\n      <th>Area (km²)</th>\n      <th>Density (per km²)</th>\n      <th>Growth Rate</th>\n      <th>World Population Percentage</th>\n    </tr>\n  </thead>\n  <tbody>\n    <tr>\n      <th>219</th>\n      <td>97</td>\n      <td>ARE</td>\n      <td>United Arab Emirates</td>\n      <td>Abu Dhabi</td>\n      <td>Asia</td>\n      <td>9441129.0</td>\n      <td>9287289.0</td>\n      <td>8916899.0</td>\n      <td>8481771.0</td>\n      <td>3275333.0</td>\n      <td>1900151.0</td>\n      <td>1014048.0</td>\n      <td>298084.0</td>\n      <td>83600.0</td>\n      <td>112.9322</td>\n      <td>1.0081</td>\n      <td>0.12</td>\n    </tr>\n    <tr>\n      <th>220</th>\n      <td>21</td>\n      <td>GBR</td>\n      <td>United Kingdom</td>\n      <td>London</td>\n      <td>Europe</td>\n      <td>67508936.0</td>\n      <td>67059474.0</td>\n      <td>65224364.0</td>\n      <td>62760039.0</td>\n      <td>58850043.0</td>\n      <td>57210442.0</td>\n      <td>56326328.0</td>\n      <td>55650166.0</td>\n      <td>242900.0</td>\n      <td>277.9289</td>\n      <td>1.0034</td>\n      <td>0.85</td>\n    </tr>\n    <tr>\n      <th>221</th>\n      <td>3</td>\n      <td>USA</td>\n      <td>United States</td>\n      <td>Washington, D.C.</td>\n      <td>North America</td>\n      <td>338289857.0</td>\n      <td>335942003.0</td>\n      <td>324607776.0</td>\n      <td>311182845.0</td>\n      <td>282398554.0</td>\n      <td>248083732.0</td>\n      <td>223140018.0</td>\n      <td>200328340.0</td>\n      <td>9372610.0</td>\n      <td>36.0935</td>\n      <td>1.0038</td>\n      <td>4.24</td>\n    </tr>\n    <tr>\n      <th>222</th>\n      <td>200</td>\n      <td>VIR</td>\n      <td>United States Virgin Islands</td>\n      <td>Charlotte Amalie</td>\n      <td>North America</td>\n      <td>99465.0</td>\n      <td>100442.0</td>\n      <td>102803.0</td>\n      <td>106142.0</td>\n      <td>108185.0</td>\n      <td>100685.0</td>\n      <td>96640.0</td>\n      <td>63446.0</td>\n      <td>347.0</td>\n      <td>286.6427</td>\n      <td>0.9937</td>\n      <td>0.00</td>\n    </tr>\n  </tbody>\n</table>\n</div>"
     },
     "execution_count": 33,
     "metadata": {},
     "output_type": "execute_result"
    }
   ],
   "source": [
    "df[df['Country'].str.contains('United')]"
   ],
   "metadata": {
    "collapsed": false,
    "ExecuteTime": {
     "end_time": "2025-10-05T09:40:31.622219Z",
     "start_time": "2025-10-05T09:40:31.574837800Z"
    }
   }
  },
  {
   "cell_type": "code",
   "execution_count": 34,
   "outputs": [
    {
     "data": {
      "text/plain": "                   Rank CCA3           Capital Continent  2022 Population  \\\nCountry                                                                     \nAfghanistan          36  AFG             Kabul      Asia       41128771.0   \nAlbania             138  ALB            Tirana    Europe        2842321.0   \nAlgeria              34  DZA           Algiers    Africa       44903225.0   \nAmerican Samoa      213  ASM         Pago Pago   Oceania          44273.0   \nAndorra             203  AND  Andorra la Vella    Europe          79824.0   \n...                 ...  ...               ...       ...              ...   \nWallis and Futuna   226  WLF          Mata-Utu   Oceania          11572.0   \nWestern Sahara      172  ESH          El Aaiún    Africa         575986.0   \nYemen                46  YEM             Sanaa      Asia       33696614.0   \nZambia               63  ZMB            Lusaka    Africa       20017675.0   \nZimbabwe             74  ZWE            Harare    Africa       16320537.0   \n\n                   2020 Population  2015 Population  2010 Population  \\\nCountry                                                                \nAfghanistan             38972230.0       33753499.0       28189672.0   \nAlbania                  2866849.0        2882481.0        2913399.0   \nAlgeria                 43451666.0       39543154.0       35856344.0   \nAmerican Samoa             46189.0          51368.0          54849.0   \nAndorra                    77700.0          71746.0          71519.0   \n...                            ...              ...              ...   \nWallis and Futuna          11655.0          12182.0          13142.0   \nWestern Sahara            556048.0         491824.0         413296.0   \nYemen                   32284046.0       28516545.0       24743946.0   \nZambia                  18927715.0              NaN       13792086.0   \nZimbabwe                15669666.0       14154937.0       12839771.0   \n\n                   2000 Population  1990 Population  1980 Population  \\\nCountry                                                                \nAfghanistan             19542982.0       10694796.0       12486631.0   \nAlbania                  3182021.0        3295066.0        2941651.0   \nAlgeria                 30774621.0       25518074.0       18739378.0   \nAmerican Samoa             58230.0          47818.0          32886.0   \nAndorra                    66097.0          53569.0          35611.0   \n...                            ...              ...              ...   \nWallis and Futuna          14723.0          13454.0          11315.0   \nWestern Sahara            270375.0         178529.0         116775.0   \nYemen                   18628700.0       13375121.0        9204938.0   \nZambia                   9891136.0        7686401.0        5720438.0   \nZimbabwe                11834676.0       10113893.0        7049926.0   \n\n                   1970 Population  Area (km²)  Density (per km²)  \\\nCountry                                                             \nAfghanistan             10752971.0    652230.0            63.0587   \nAlbania                  2324731.0     28748.0            98.8702   \nAlgeria                 13795915.0   2381741.0            18.8531   \nAmerican Samoa             27075.0       199.0           222.4774   \nAndorra                    19860.0       468.0           170.5641   \n...                            ...         ...                ...   \nWallis and Futuna           9377.0       142.0            81.4930   \nWestern Sahara             76371.0    266000.0             2.1654   \nYemen                    6843607.0    527968.0            63.8232   \nZambia                   4281671.0    752612.0            26.5976   \nZimbabwe                 5202918.0    390757.0            41.7665   \n\n                   Growth Rate  World Population Percentage  \nCountry                                                      \nAfghanistan             1.0257                         0.52  \nAlbania                 0.9957                         0.04  \nAlgeria                 1.0164                         0.56  \nAmerican Samoa          0.9831                         0.00  \nAndorra                 1.0100                         0.00  \n...                        ...                          ...  \nWallis and Futuna       0.9953                         0.00  \nWestern Sahara          1.0184                         0.01  \nYemen                   1.0217                         0.42  \nZambia                  1.0280                         0.25  \nZimbabwe                1.0204                         0.20  \n\n[234 rows x 16 columns]",
      "text/html": "<div>\n<style scoped>\n    .dataframe tbody tr th:only-of-type {\n        vertical-align: middle;\n    }\n\n    .dataframe tbody tr th {\n        vertical-align: top;\n    }\n\n    .dataframe thead th {\n        text-align: right;\n    }\n</style>\n<table border=\"1\" class=\"dataframe\">\n  <thead>\n    <tr style=\"text-align: right;\">\n      <th></th>\n      <th>Rank</th>\n      <th>CCA3</th>\n      <th>Capital</th>\n      <th>Continent</th>\n      <th>2022 Population</th>\n      <th>2020 Population</th>\n      <th>2015 Population</th>\n      <th>2010 Population</th>\n      <th>2000 Population</th>\n      <th>1990 Population</th>\n      <th>1980 Population</th>\n      <th>1970 Population</th>\n      <th>Area (km²)</th>\n      <th>Density (per km²)</th>\n      <th>Growth Rate</th>\n      <th>World Population Percentage</th>\n    </tr>\n    <tr>\n      <th>Country</th>\n      <th></th>\n      <th></th>\n      <th></th>\n      <th></th>\n      <th></th>\n      <th></th>\n      <th></th>\n      <th></th>\n      <th></th>\n      <th></th>\n      <th></th>\n      <th></th>\n      <th></th>\n      <th></th>\n      <th></th>\n      <th></th>\n    </tr>\n  </thead>\n  <tbody>\n    <tr>\n      <th>Afghanistan</th>\n      <td>36</td>\n      <td>AFG</td>\n      <td>Kabul</td>\n      <td>Asia</td>\n      <td>41128771.0</td>\n      <td>38972230.0</td>\n      <td>33753499.0</td>\n      <td>28189672.0</td>\n      <td>19542982.0</td>\n      <td>10694796.0</td>\n      <td>12486631.0</td>\n      <td>10752971.0</td>\n      <td>652230.0</td>\n      <td>63.0587</td>\n      <td>1.0257</td>\n      <td>0.52</td>\n    </tr>\n    <tr>\n      <th>Albania</th>\n      <td>138</td>\n      <td>ALB</td>\n      <td>Tirana</td>\n      <td>Europe</td>\n      <td>2842321.0</td>\n      <td>2866849.0</td>\n      <td>2882481.0</td>\n      <td>2913399.0</td>\n      <td>3182021.0</td>\n      <td>3295066.0</td>\n      <td>2941651.0</td>\n      <td>2324731.0</td>\n      <td>28748.0</td>\n      <td>98.8702</td>\n      <td>0.9957</td>\n      <td>0.04</td>\n    </tr>\n    <tr>\n      <th>Algeria</th>\n      <td>34</td>\n      <td>DZA</td>\n      <td>Algiers</td>\n      <td>Africa</td>\n      <td>44903225.0</td>\n      <td>43451666.0</td>\n      <td>39543154.0</td>\n      <td>35856344.0</td>\n      <td>30774621.0</td>\n      <td>25518074.0</td>\n      <td>18739378.0</td>\n      <td>13795915.0</td>\n      <td>2381741.0</td>\n      <td>18.8531</td>\n      <td>1.0164</td>\n      <td>0.56</td>\n    </tr>\n    <tr>\n      <th>American Samoa</th>\n      <td>213</td>\n      <td>ASM</td>\n      <td>Pago Pago</td>\n      <td>Oceania</td>\n      <td>44273.0</td>\n      <td>46189.0</td>\n      <td>51368.0</td>\n      <td>54849.0</td>\n      <td>58230.0</td>\n      <td>47818.0</td>\n      <td>32886.0</td>\n      <td>27075.0</td>\n      <td>199.0</td>\n      <td>222.4774</td>\n      <td>0.9831</td>\n      <td>0.00</td>\n    </tr>\n    <tr>\n      <th>Andorra</th>\n      <td>203</td>\n      <td>AND</td>\n      <td>Andorra la Vella</td>\n      <td>Europe</td>\n      <td>79824.0</td>\n      <td>77700.0</td>\n      <td>71746.0</td>\n      <td>71519.0</td>\n      <td>66097.0</td>\n      <td>53569.0</td>\n      <td>35611.0</td>\n      <td>19860.0</td>\n      <td>468.0</td>\n      <td>170.5641</td>\n      <td>1.0100</td>\n      <td>0.00</td>\n    </tr>\n    <tr>\n      <th>...</th>\n      <td>...</td>\n      <td>...</td>\n      <td>...</td>\n      <td>...</td>\n      <td>...</td>\n      <td>...</td>\n      <td>...</td>\n      <td>...</td>\n      <td>...</td>\n      <td>...</td>\n      <td>...</td>\n      <td>...</td>\n      <td>...</td>\n      <td>...</td>\n      <td>...</td>\n      <td>...</td>\n    </tr>\n    <tr>\n      <th>Wallis and Futuna</th>\n      <td>226</td>\n      <td>WLF</td>\n      <td>Mata-Utu</td>\n      <td>Oceania</td>\n      <td>11572.0</td>\n      <td>11655.0</td>\n      <td>12182.0</td>\n      <td>13142.0</td>\n      <td>14723.0</td>\n      <td>13454.0</td>\n      <td>11315.0</td>\n      <td>9377.0</td>\n      <td>142.0</td>\n      <td>81.4930</td>\n      <td>0.9953</td>\n      <td>0.00</td>\n    </tr>\n    <tr>\n      <th>Western Sahara</th>\n      <td>172</td>\n      <td>ESH</td>\n      <td>El Aaiún</td>\n      <td>Africa</td>\n      <td>575986.0</td>\n      <td>556048.0</td>\n      <td>491824.0</td>\n      <td>413296.0</td>\n      <td>270375.0</td>\n      <td>178529.0</td>\n      <td>116775.0</td>\n      <td>76371.0</td>\n      <td>266000.0</td>\n      <td>2.1654</td>\n      <td>1.0184</td>\n      <td>0.01</td>\n    </tr>\n    <tr>\n      <th>Yemen</th>\n      <td>46</td>\n      <td>YEM</td>\n      <td>Sanaa</td>\n      <td>Asia</td>\n      <td>33696614.0</td>\n      <td>32284046.0</td>\n      <td>28516545.0</td>\n      <td>24743946.0</td>\n      <td>18628700.0</td>\n      <td>13375121.0</td>\n      <td>9204938.0</td>\n      <td>6843607.0</td>\n      <td>527968.0</td>\n      <td>63.8232</td>\n      <td>1.0217</td>\n      <td>0.42</td>\n    </tr>\n    <tr>\n      <th>Zambia</th>\n      <td>63</td>\n      <td>ZMB</td>\n      <td>Lusaka</td>\n      <td>Africa</td>\n      <td>20017675.0</td>\n      <td>18927715.0</td>\n      <td>NaN</td>\n      <td>13792086.0</td>\n      <td>9891136.0</td>\n      <td>7686401.0</td>\n      <td>5720438.0</td>\n      <td>4281671.0</td>\n      <td>752612.0</td>\n      <td>26.5976</td>\n      <td>1.0280</td>\n      <td>0.25</td>\n    </tr>\n    <tr>\n      <th>Zimbabwe</th>\n      <td>74</td>\n      <td>ZWE</td>\n      <td>Harare</td>\n      <td>Africa</td>\n      <td>16320537.0</td>\n      <td>15669666.0</td>\n      <td>14154937.0</td>\n      <td>12839771.0</td>\n      <td>11834676.0</td>\n      <td>10113893.0</td>\n      <td>7049926.0</td>\n      <td>5202918.0</td>\n      <td>390757.0</td>\n      <td>41.7665</td>\n      <td>1.0204</td>\n      <td>0.20</td>\n    </tr>\n  </tbody>\n</table>\n<p>234 rows × 16 columns</p>\n</div>"
     },
     "execution_count": 34,
     "metadata": {},
     "output_type": "execute_result"
    }
   ],
   "source": [
    "df2 = df.set_index('Country')\n",
    "df2"
   ],
   "metadata": {
    "collapsed": false,
    "ExecuteTime": {
     "end_time": "2025-10-05T09:45:04.195183400Z",
     "start_time": "2025-10-05T09:45:04.110534700Z"
    }
   }
  },
  {
   "cell_type": "code",
   "execution_count": 38,
   "outputs": [
    {
     "data": {
      "text/plain": "                  Continent CCA3\nCountry                         \nAfghanistan            Asia  AFG\nAlbania              Europe  ALB\nAlgeria              Africa  DZA\nAmerican Samoa      Oceania  ASM\nAndorra              Europe  AND\n...                     ...  ...\nWallis and Futuna   Oceania  WLF\nWestern Sahara       Africa  ESH\nYemen                  Asia  YEM\nZambia               Africa  ZMB\nZimbabwe             Africa  ZWE\n\n[234 rows x 2 columns]",
      "text/html": "<div>\n<style scoped>\n    .dataframe tbody tr th:only-of-type {\n        vertical-align: middle;\n    }\n\n    .dataframe tbody tr th {\n        vertical-align: top;\n    }\n\n    .dataframe thead th {\n        text-align: right;\n    }\n</style>\n<table border=\"1\" class=\"dataframe\">\n  <thead>\n    <tr style=\"text-align: right;\">\n      <th></th>\n      <th>Continent</th>\n      <th>CCA3</th>\n    </tr>\n    <tr>\n      <th>Country</th>\n      <th></th>\n      <th></th>\n    </tr>\n  </thead>\n  <tbody>\n    <tr>\n      <th>Afghanistan</th>\n      <td>Asia</td>\n      <td>AFG</td>\n    </tr>\n    <tr>\n      <th>Albania</th>\n      <td>Europe</td>\n      <td>ALB</td>\n    </tr>\n    <tr>\n      <th>Algeria</th>\n      <td>Africa</td>\n      <td>DZA</td>\n    </tr>\n    <tr>\n      <th>American Samoa</th>\n      <td>Oceania</td>\n      <td>ASM</td>\n    </tr>\n    <tr>\n      <th>Andorra</th>\n      <td>Europe</td>\n      <td>AND</td>\n    </tr>\n    <tr>\n      <th>...</th>\n      <td>...</td>\n      <td>...</td>\n    </tr>\n    <tr>\n      <th>Wallis and Futuna</th>\n      <td>Oceania</td>\n      <td>WLF</td>\n    </tr>\n    <tr>\n      <th>Western Sahara</th>\n      <td>Africa</td>\n      <td>ESH</td>\n    </tr>\n    <tr>\n      <th>Yemen</th>\n      <td>Asia</td>\n      <td>YEM</td>\n    </tr>\n    <tr>\n      <th>Zambia</th>\n      <td>Africa</td>\n      <td>ZMB</td>\n    </tr>\n    <tr>\n      <th>Zimbabwe</th>\n      <td>Africa</td>\n      <td>ZWE</td>\n    </tr>\n  </tbody>\n</table>\n<p>234 rows × 2 columns</p>\n</div>"
     },
     "execution_count": 38,
     "metadata": {},
     "output_type": "execute_result"
    }
   ],
   "source": [
    "df2.filter(items=['Continent', 'CCA3'], axis=1)"
   ],
   "metadata": {
    "collapsed": false,
    "ExecuteTime": {
     "end_time": "2025-10-05T09:48:27.491358800Z",
     "start_time": "2025-10-05T09:48:27.443937900Z"
    }
   }
  },
  {
   "cell_type": "code",
   "execution_count": 40,
   "outputs": [
    {
     "data": {
      "text/plain": "          Rank CCA3 Capital Continent  2022 Population  2020 Population  \\\nZimbabwe    74  ZWE  Harare    Africa       16320537.0       15669666.0   \n\n          2015 Population  2010 Population  2000 Population  1990 Population  \\\nZimbabwe       14154937.0       12839771.0       11834676.0       10113893.0   \n\n          1980 Population  1970 Population  Area (km²)  Density (per km²)  \\\nZimbabwe        7049926.0        5202918.0    390757.0            41.7665   \n\n          Growth Rate  World Population Percentage  \nZimbabwe       1.0204                          0.2  ",
      "text/html": "<div>\n<style scoped>\n    .dataframe tbody tr th:only-of-type {\n        vertical-align: middle;\n    }\n\n    .dataframe tbody tr th {\n        vertical-align: top;\n    }\n\n    .dataframe thead th {\n        text-align: right;\n    }\n</style>\n<table border=\"1\" class=\"dataframe\">\n  <thead>\n    <tr style=\"text-align: right;\">\n      <th></th>\n      <th>Rank</th>\n      <th>CCA3</th>\n      <th>Capital</th>\n      <th>Continent</th>\n      <th>2022 Population</th>\n      <th>2020 Population</th>\n      <th>2015 Population</th>\n      <th>2010 Population</th>\n      <th>2000 Population</th>\n      <th>1990 Population</th>\n      <th>1980 Population</th>\n      <th>1970 Population</th>\n      <th>Area (km²)</th>\n      <th>Density (per km²)</th>\n      <th>Growth Rate</th>\n      <th>World Population Percentage</th>\n    </tr>\n  </thead>\n  <tbody>\n    <tr>\n      <th>Zimbabwe</th>\n      <td>74</td>\n      <td>ZWE</td>\n      <td>Harare</td>\n      <td>Africa</td>\n      <td>16320537.0</td>\n      <td>15669666.0</td>\n      <td>14154937.0</td>\n      <td>12839771.0</td>\n      <td>11834676.0</td>\n      <td>10113893.0</td>\n      <td>7049926.0</td>\n      <td>5202918.0</td>\n      <td>390757.0</td>\n      <td>41.7665</td>\n      <td>1.0204</td>\n      <td>0.2</td>\n    </tr>\n  </tbody>\n</table>\n</div>"
     },
     "execution_count": 40,
     "metadata": {},
     "output_type": "execute_result"
    }
   ],
   "source": [
    "df2.filter(items=['Zimbabwe'], axis=0)"
   ],
   "metadata": {
    "collapsed": false,
    "ExecuteTime": {
     "end_time": "2025-10-05T09:50:25.410160700Z",
     "start_time": "2025-10-05T09:50:25.379029600Z"
    }
   }
  },
  {
   "cell_type": "code",
   "execution_count": 41,
   "outputs": [
    {
     "data": {
      "text/plain": "                              Rank CCA3           Capital      Continent  \\\nCountry                                                                    \nUnited Arab Emirates            97  ARE         Abu Dhabi           Asia   \nUnited Kingdom                  21  GBR            London         Europe   \nUnited States                    3  USA  Washington, D.C.  North America   \nUnited States Virgin Islands   200  VIR  Charlotte Amalie  North America   \n\n                              2022 Population  2020 Population  \\\nCountry                                                          \nUnited Arab Emirates                9441129.0        9287289.0   \nUnited Kingdom                     67508936.0       67059474.0   \nUnited States                     338289857.0      335942003.0   \nUnited States Virgin Islands          99465.0         100442.0   \n\n                              2015 Population  2010 Population  \\\nCountry                                                          \nUnited Arab Emirates                8916899.0        8481771.0   \nUnited Kingdom                     65224364.0       62760039.0   \nUnited States                     324607776.0      311182845.0   \nUnited States Virgin Islands         102803.0         106142.0   \n\n                              2000 Population  1990 Population  \\\nCountry                                                          \nUnited Arab Emirates                3275333.0        1900151.0   \nUnited Kingdom                     58850043.0       57210442.0   \nUnited States                     282398554.0      248083732.0   \nUnited States Virgin Islands         108185.0         100685.0   \n\n                              1980 Population  1970 Population  Area (km²)  \\\nCountry                                                                      \nUnited Arab Emirates                1014048.0         298084.0     83600.0   \nUnited Kingdom                     56326328.0       55650166.0    242900.0   \nUnited States                     223140018.0      200328340.0   9372610.0   \nUnited States Virgin Islands          96640.0          63446.0       347.0   \n\n                              Density (per km²)  Growth Rate  \\\nCountry                                                        \nUnited Arab Emirates                   112.9322       1.0081   \nUnited Kingdom                         277.9289       1.0034   \nUnited States                           36.0935       1.0038   \nUnited States Virgin Islands           286.6427       0.9937   \n\n                              World Population Percentage  \nCountry                                                    \nUnited Arab Emirates                                 0.12  \nUnited Kingdom                                       0.85  \nUnited States                                        4.24  \nUnited States Virgin Islands                         0.00  ",
      "text/html": "<div>\n<style scoped>\n    .dataframe tbody tr th:only-of-type {\n        vertical-align: middle;\n    }\n\n    .dataframe tbody tr th {\n        vertical-align: top;\n    }\n\n    .dataframe thead th {\n        text-align: right;\n    }\n</style>\n<table border=\"1\" class=\"dataframe\">\n  <thead>\n    <tr style=\"text-align: right;\">\n      <th></th>\n      <th>Rank</th>\n      <th>CCA3</th>\n      <th>Capital</th>\n      <th>Continent</th>\n      <th>2022 Population</th>\n      <th>2020 Population</th>\n      <th>2015 Population</th>\n      <th>2010 Population</th>\n      <th>2000 Population</th>\n      <th>1990 Population</th>\n      <th>1980 Population</th>\n      <th>1970 Population</th>\n      <th>Area (km²)</th>\n      <th>Density (per km²)</th>\n      <th>Growth Rate</th>\n      <th>World Population Percentage</th>\n    </tr>\n    <tr>\n      <th>Country</th>\n      <th></th>\n      <th></th>\n      <th></th>\n      <th></th>\n      <th></th>\n      <th></th>\n      <th></th>\n      <th></th>\n      <th></th>\n      <th></th>\n      <th></th>\n      <th></th>\n      <th></th>\n      <th></th>\n      <th></th>\n      <th></th>\n    </tr>\n  </thead>\n  <tbody>\n    <tr>\n      <th>United Arab Emirates</th>\n      <td>97</td>\n      <td>ARE</td>\n      <td>Abu Dhabi</td>\n      <td>Asia</td>\n      <td>9441129.0</td>\n      <td>9287289.0</td>\n      <td>8916899.0</td>\n      <td>8481771.0</td>\n      <td>3275333.0</td>\n      <td>1900151.0</td>\n      <td>1014048.0</td>\n      <td>298084.0</td>\n      <td>83600.0</td>\n      <td>112.9322</td>\n      <td>1.0081</td>\n      <td>0.12</td>\n    </tr>\n    <tr>\n      <th>United Kingdom</th>\n      <td>21</td>\n      <td>GBR</td>\n      <td>London</td>\n      <td>Europe</td>\n      <td>67508936.0</td>\n      <td>67059474.0</td>\n      <td>65224364.0</td>\n      <td>62760039.0</td>\n      <td>58850043.0</td>\n      <td>57210442.0</td>\n      <td>56326328.0</td>\n      <td>55650166.0</td>\n      <td>242900.0</td>\n      <td>277.9289</td>\n      <td>1.0034</td>\n      <td>0.85</td>\n    </tr>\n    <tr>\n      <th>United States</th>\n      <td>3</td>\n      <td>USA</td>\n      <td>Washington, D.C.</td>\n      <td>North America</td>\n      <td>338289857.0</td>\n      <td>335942003.0</td>\n      <td>324607776.0</td>\n      <td>311182845.0</td>\n      <td>282398554.0</td>\n      <td>248083732.0</td>\n      <td>223140018.0</td>\n      <td>200328340.0</td>\n      <td>9372610.0</td>\n      <td>36.0935</td>\n      <td>1.0038</td>\n      <td>4.24</td>\n    </tr>\n    <tr>\n      <th>United States Virgin Islands</th>\n      <td>200</td>\n      <td>VIR</td>\n      <td>Charlotte Amalie</td>\n      <td>North America</td>\n      <td>99465.0</td>\n      <td>100442.0</td>\n      <td>102803.0</td>\n      <td>106142.0</td>\n      <td>108185.0</td>\n      <td>100685.0</td>\n      <td>96640.0</td>\n      <td>63446.0</td>\n      <td>347.0</td>\n      <td>286.6427</td>\n      <td>0.9937</td>\n      <td>0.00</td>\n    </tr>\n  </tbody>\n</table>\n</div>"
     },
     "execution_count": 41,
     "metadata": {},
     "output_type": "execute_result"
    }
   ],
   "source": [
    "df2.filter(like='United', axis=0)"
   ],
   "metadata": {
    "collapsed": false,
    "ExecuteTime": {
     "end_time": "2025-10-05T09:52:06.108253900Z",
     "start_time": "2025-10-05T09:52:06.003947900Z"
    }
   }
  },
  {
   "cell_type": "code",
   "execution_count": 43,
   "outputs": [
    {
     "data": {
      "text/plain": "Rank                                          3\nCCA3                                        USA\nCapital                        Washington, D.C.\nContinent                         North America\n2022 Population                     338289857.0\n2020 Population                     335942003.0\n2015 Population                     324607776.0\n2010 Population                     311182845.0\n2000 Population                     282398554.0\n1990 Population                     248083732.0\n1980 Population                     223140018.0\n1970 Population                     200328340.0\nArea (km²)                            9372610.0\nDensity (per km²)                       36.0935\nGrowth Rate                              1.0038\nWorld Population Percentage                4.24\nName: United States, dtype: object"
     },
     "execution_count": 43,
     "metadata": {},
     "output_type": "execute_result"
    }
   ],
   "source": [
    "df2.loc['United States']"
   ],
   "metadata": {
    "collapsed": false,
    "ExecuteTime": {
     "end_time": "2025-10-05T09:53:06.744834Z",
     "start_time": "2025-10-05T09:53:06.682044200Z"
    }
   }
  },
  {
   "cell_type": "code",
   "execution_count": 46,
   "outputs": [
    {
     "data": {
      "text/plain": "Rank                                        203\nCCA3                                        AND\nCapital                        Andorra la Vella\nContinent                                Europe\n2022 Population                         79824.0\n2020 Population                         77700.0\n2015 Population                         71746.0\n2010 Population                         71519.0\n2000 Population                         66097.0\n1990 Population                         53569.0\n1980 Population                         35611.0\n1970 Population                         19860.0\nArea (km²)                                468.0\nDensity (per km²)                      170.5641\nGrowth Rate                                1.01\nWorld Population Percentage                 0.0\nName: Andorra, dtype: object"
     },
     "execution_count": 46,
     "metadata": {},
     "output_type": "execute_result"
    }
   ],
   "source": [
    "df2.iloc[4]"
   ],
   "metadata": {
    "collapsed": false,
    "ExecuteTime": {
     "end_time": "2025-10-05T09:54:42.307625900Z",
     "start_time": "2025-10-05T09:54:42.276355200Z"
    }
   }
  },
  {
   "cell_type": "code",
   "execution_count": 47,
   "outputs": [
    {
     "data": {
      "text/plain": "     Rank CCA3            Country           Capital Continent  \\\n0      36  AFG        Afghanistan             Kabul      Asia   \n1     138  ALB            Albania            Tirana    Europe   \n2      34  DZA            Algeria           Algiers    Africa   \n3     213  ASM     American Samoa         Pago Pago   Oceania   \n4     203  AND            Andorra  Andorra la Vella    Europe   \n..    ...  ...                ...               ...       ...   \n229   226  WLF  Wallis and Futuna          Mata-Utu   Oceania   \n230   172  ESH     Western Sahara          El Aaiún    Africa   \n231    46  YEM              Yemen             Sanaa      Asia   \n232    63  ZMB             Zambia            Lusaka    Africa   \n233    74  ZWE           Zimbabwe            Harare    Africa   \n\n     2022 Population  2020 Population  2015 Population  2010 Population  \\\n0         41128771.0       38972230.0       33753499.0       28189672.0   \n1          2842321.0        2866849.0        2882481.0        2913399.0   \n2         44903225.0       43451666.0       39543154.0       35856344.0   \n3            44273.0          46189.0          51368.0          54849.0   \n4            79824.0          77700.0          71746.0          71519.0   \n..               ...              ...              ...              ...   \n229          11572.0          11655.0          12182.0          13142.0   \n230         575986.0         556048.0         491824.0         413296.0   \n231       33696614.0       32284046.0       28516545.0       24743946.0   \n232       20017675.0       18927715.0              NaN       13792086.0   \n233       16320537.0       15669666.0       14154937.0       12839771.0   \n\n     2000 Population  1990 Population  1980 Population  1970 Population  \\\n0         19542982.0       10694796.0       12486631.0       10752971.0   \n1          3182021.0        3295066.0        2941651.0        2324731.0   \n2         30774621.0       25518074.0       18739378.0       13795915.0   \n3            58230.0          47818.0          32886.0          27075.0   \n4            66097.0          53569.0          35611.0          19860.0   \n..               ...              ...              ...              ...   \n229          14723.0          13454.0          11315.0           9377.0   \n230         270375.0         178529.0         116775.0          76371.0   \n231       18628700.0       13375121.0        9204938.0        6843607.0   \n232        9891136.0        7686401.0        5720438.0        4281671.0   \n233       11834676.0       10113893.0        7049926.0        5202918.0   \n\n     Area (km²)  Density (per km²)  Growth Rate  World Population Percentage  \n0      652230.0            63.0587       1.0257                         0.52  \n1       28748.0            98.8702       0.9957                         0.04  \n2     2381741.0            18.8531       1.0164                         0.56  \n3         199.0           222.4774       0.9831                         0.00  \n4         468.0           170.5641       1.0100                         0.00  \n..          ...                ...          ...                          ...  \n229       142.0            81.4930       0.9953                         0.00  \n230    266000.0             2.1654       1.0184                         0.01  \n231    527968.0            63.8232       1.0217                         0.42  \n232    752612.0            26.5976       1.0280                         0.25  \n233    390757.0            41.7665       1.0204                         0.20  \n\n[234 rows x 17 columns]",
      "text/html": "<div>\n<style scoped>\n    .dataframe tbody tr th:only-of-type {\n        vertical-align: middle;\n    }\n\n    .dataframe tbody tr th {\n        vertical-align: top;\n    }\n\n    .dataframe thead th {\n        text-align: right;\n    }\n</style>\n<table border=\"1\" class=\"dataframe\">\n  <thead>\n    <tr style=\"text-align: right;\">\n      <th></th>\n      <th>Rank</th>\n      <th>CCA3</th>\n      <th>Country</th>\n      <th>Capital</th>\n      <th>Continent</th>\n      <th>2022 Population</th>\n      <th>2020 Population</th>\n      <th>2015 Population</th>\n      <th>2010 Population</th>\n      <th>2000 Population</th>\n      <th>1990 Population</th>\n      <th>1980 Population</th>\n      <th>1970 Population</th>\n      <th>Area (km²)</th>\n      <th>Density (per km²)</th>\n      <th>Growth Rate</th>\n      <th>World Population Percentage</th>\n    </tr>\n  </thead>\n  <tbody>\n    <tr>\n      <th>0</th>\n      <td>36</td>\n      <td>AFG</td>\n      <td>Afghanistan</td>\n      <td>Kabul</td>\n      <td>Asia</td>\n      <td>41128771.0</td>\n      <td>38972230.0</td>\n      <td>33753499.0</td>\n      <td>28189672.0</td>\n      <td>19542982.0</td>\n      <td>10694796.0</td>\n      <td>12486631.0</td>\n      <td>10752971.0</td>\n      <td>652230.0</td>\n      <td>63.0587</td>\n      <td>1.0257</td>\n      <td>0.52</td>\n    </tr>\n    <tr>\n      <th>1</th>\n      <td>138</td>\n      <td>ALB</td>\n      <td>Albania</td>\n      <td>Tirana</td>\n      <td>Europe</td>\n      <td>2842321.0</td>\n      <td>2866849.0</td>\n      <td>2882481.0</td>\n      <td>2913399.0</td>\n      <td>3182021.0</td>\n      <td>3295066.0</td>\n      <td>2941651.0</td>\n      <td>2324731.0</td>\n      <td>28748.0</td>\n      <td>98.8702</td>\n      <td>0.9957</td>\n      <td>0.04</td>\n    </tr>\n    <tr>\n      <th>2</th>\n      <td>34</td>\n      <td>DZA</td>\n      <td>Algeria</td>\n      <td>Algiers</td>\n      <td>Africa</td>\n      <td>44903225.0</td>\n      <td>43451666.0</td>\n      <td>39543154.0</td>\n      <td>35856344.0</td>\n      <td>30774621.0</td>\n      <td>25518074.0</td>\n      <td>18739378.0</td>\n      <td>13795915.0</td>\n      <td>2381741.0</td>\n      <td>18.8531</td>\n      <td>1.0164</td>\n      <td>0.56</td>\n    </tr>\n    <tr>\n      <th>3</th>\n      <td>213</td>\n      <td>ASM</td>\n      <td>American Samoa</td>\n      <td>Pago Pago</td>\n      <td>Oceania</td>\n      <td>44273.0</td>\n      <td>46189.0</td>\n      <td>51368.0</td>\n      <td>54849.0</td>\n      <td>58230.0</td>\n      <td>47818.0</td>\n      <td>32886.0</td>\n      <td>27075.0</td>\n      <td>199.0</td>\n      <td>222.4774</td>\n      <td>0.9831</td>\n      <td>0.00</td>\n    </tr>\n    <tr>\n      <th>4</th>\n      <td>203</td>\n      <td>AND</td>\n      <td>Andorra</td>\n      <td>Andorra la Vella</td>\n      <td>Europe</td>\n      <td>79824.0</td>\n      <td>77700.0</td>\n      <td>71746.0</td>\n      <td>71519.0</td>\n      <td>66097.0</td>\n      <td>53569.0</td>\n      <td>35611.0</td>\n      <td>19860.0</td>\n      <td>468.0</td>\n      <td>170.5641</td>\n      <td>1.0100</td>\n      <td>0.00</td>\n    </tr>\n    <tr>\n      <th>...</th>\n      <td>...</td>\n      <td>...</td>\n      <td>...</td>\n      <td>...</td>\n      <td>...</td>\n      <td>...</td>\n      <td>...</td>\n      <td>...</td>\n      <td>...</td>\n      <td>...</td>\n      <td>...</td>\n      <td>...</td>\n      <td>...</td>\n      <td>...</td>\n      <td>...</td>\n      <td>...</td>\n      <td>...</td>\n    </tr>\n    <tr>\n      <th>229</th>\n      <td>226</td>\n      <td>WLF</td>\n      <td>Wallis and Futuna</td>\n      <td>Mata-Utu</td>\n      <td>Oceania</td>\n      <td>11572.0</td>\n      <td>11655.0</td>\n      <td>12182.0</td>\n      <td>13142.0</td>\n      <td>14723.0</td>\n      <td>13454.0</td>\n      <td>11315.0</td>\n      <td>9377.0</td>\n      <td>142.0</td>\n      <td>81.4930</td>\n      <td>0.9953</td>\n      <td>0.00</td>\n    </tr>\n    <tr>\n      <th>230</th>\n      <td>172</td>\n      <td>ESH</td>\n      <td>Western Sahara</td>\n      <td>El Aaiún</td>\n      <td>Africa</td>\n      <td>575986.0</td>\n      <td>556048.0</td>\n      <td>491824.0</td>\n      <td>413296.0</td>\n      <td>270375.0</td>\n      <td>178529.0</td>\n      <td>116775.0</td>\n      <td>76371.0</td>\n      <td>266000.0</td>\n      <td>2.1654</td>\n      <td>1.0184</td>\n      <td>0.01</td>\n    </tr>\n    <tr>\n      <th>231</th>\n      <td>46</td>\n      <td>YEM</td>\n      <td>Yemen</td>\n      <td>Sanaa</td>\n      <td>Asia</td>\n      <td>33696614.0</td>\n      <td>32284046.0</td>\n      <td>28516545.0</td>\n      <td>24743946.0</td>\n      <td>18628700.0</td>\n      <td>13375121.0</td>\n      <td>9204938.0</td>\n      <td>6843607.0</td>\n      <td>527968.0</td>\n      <td>63.8232</td>\n      <td>1.0217</td>\n      <td>0.42</td>\n    </tr>\n    <tr>\n      <th>232</th>\n      <td>63</td>\n      <td>ZMB</td>\n      <td>Zambia</td>\n      <td>Lusaka</td>\n      <td>Africa</td>\n      <td>20017675.0</td>\n      <td>18927715.0</td>\n      <td>NaN</td>\n      <td>13792086.0</td>\n      <td>9891136.0</td>\n      <td>7686401.0</td>\n      <td>5720438.0</td>\n      <td>4281671.0</td>\n      <td>752612.0</td>\n      <td>26.5976</td>\n      <td>1.0280</td>\n      <td>0.25</td>\n    </tr>\n    <tr>\n      <th>233</th>\n      <td>74</td>\n      <td>ZWE</td>\n      <td>Zimbabwe</td>\n      <td>Harare</td>\n      <td>Africa</td>\n      <td>16320537.0</td>\n      <td>15669666.0</td>\n      <td>14154937.0</td>\n      <td>12839771.0</td>\n      <td>11834676.0</td>\n      <td>10113893.0</td>\n      <td>7049926.0</td>\n      <td>5202918.0</td>\n      <td>390757.0</td>\n      <td>41.7665</td>\n      <td>1.0204</td>\n      <td>0.20</td>\n    </tr>\n  </tbody>\n</table>\n<p>234 rows × 17 columns</p>\n</div>"
     },
     "execution_count": 47,
     "metadata": {},
     "output_type": "execute_result"
    }
   ],
   "source": [
    "df"
   ],
   "metadata": {
    "collapsed": false,
    "ExecuteTime": {
     "end_time": "2025-10-05T09:57:53.857857200Z",
     "start_time": "2025-10-05T09:57:53.826107700Z"
    }
   }
  },
  {
   "cell_type": "code",
   "execution_count": 50,
   "outputs": [
    {
     "data": {
      "text/plain": "     Rank CCA3        Country           Capital      Continent  \\\n41      1  CHN          China           Beijing           Asia   \n92      2  IND          India         New Delhi           Asia   \n221     3  USA  United States  Washington, D.C.  North America   \n93      4  IDN      Indonesia           Jakarta           Asia   \n156     5  PAK       Pakistan         Islamabad           Asia   \n149     6  NGA        Nigeria             Abuja         Africa   \n27      7  BRA         Brazil          Brasilia  South America   \n16      8  BGD     Bangladesh             Dhaka           Asia   \n171     9  RUS         Russia            Moscow         Europe   \n131    10  MEX         Mexico       Mexico City  North America   \n\n     2022 Population  2020 Population  2015 Population  2010 Population  \\\n41      1.425887e+09     1.424930e+09     1.393715e+09     1.348191e+09   \n92      1.417173e+09     1.396387e+09     1.322867e+09     1.240614e+09   \n221     3.382899e+08     3.359420e+08     3.246078e+08     3.111828e+08   \n93      2.755013e+08     2.718580e+08     2.590920e+08     2.440162e+08   \n156     2.358249e+08     2.271967e+08     2.109693e+08     1.944545e+08   \n149     2.185412e+08     2.083274e+08     1.839958e+08     1.609529e+08   \n27      2.153135e+08     2.131963e+08     2.051882e+08     1.963535e+08   \n16      1.711864e+08     1.674210e+08     1.578300e+08     1.483911e+08   \n171     1.447133e+08     1.456173e+08     1.446684e+08     1.432426e+08   \n131     1.275041e+08     1.259983e+08     1.201499e+08     1.125324e+08   \n\n     2000 Population  1990 Population  1980 Population  1970 Population  \\\n41      1.264099e+09     1.153704e+09      982372466.0      822534450.0   \n92      1.059634e+09              NaN              NaN      557501301.0   \n221     2.823986e+08     2.480837e+08      223140018.0      200328340.0   \n93      2.140724e+08     1.821599e+08      148177096.0      115228394.0   \n156     1.543699e+08     1.154141e+08       80624057.0       59290872.0   \n149     1.228520e+08     9.521426e+07       72951439.0       55569264.0   \n27      1.758737e+08     1.507064e+08      122288383.0       96369875.0   \n16      1.291933e+08     1.071477e+08       83929765.0       67541860.0   \n171     1.468448e+08     1.480057e+08      138257420.0      130093010.0   \n131     9.787344e+07     8.172043e+07       67705186.0       50289306.0   \n\n     Area (km²)  Density (per km²)  Growth Rate  World Population Percentage  \n41    9706961.0           146.8933       1.0000                        17.88  \n92    3287590.0           431.0675       1.0068                        17.77  \n221   9372610.0            36.0935       1.0038                         4.24  \n93    1904569.0           144.6529       1.0064                         3.45  \n156    881912.0           267.4018       1.0191                         2.96  \n149    923768.0           236.5759       1.0241                         2.74  \n27    8515767.0            25.2841       1.0046                         2.70  \n16     147570.0          1160.0350       1.0108                         2.15  \n171  17098242.0             8.4636       0.9973                         1.81  \n131   1964375.0            64.9082       1.0063                         1.60  ",
      "text/html": "<div>\n<style scoped>\n    .dataframe tbody tr th:only-of-type {\n        vertical-align: middle;\n    }\n\n    .dataframe tbody tr th {\n        vertical-align: top;\n    }\n\n    .dataframe thead th {\n        text-align: right;\n    }\n</style>\n<table border=\"1\" class=\"dataframe\">\n  <thead>\n    <tr style=\"text-align: right;\">\n      <th></th>\n      <th>Rank</th>\n      <th>CCA3</th>\n      <th>Country</th>\n      <th>Capital</th>\n      <th>Continent</th>\n      <th>2022 Population</th>\n      <th>2020 Population</th>\n      <th>2015 Population</th>\n      <th>2010 Population</th>\n      <th>2000 Population</th>\n      <th>1990 Population</th>\n      <th>1980 Population</th>\n      <th>1970 Population</th>\n      <th>Area (km²)</th>\n      <th>Density (per km²)</th>\n      <th>Growth Rate</th>\n      <th>World Population Percentage</th>\n    </tr>\n  </thead>\n  <tbody>\n    <tr>\n      <th>41</th>\n      <td>1</td>\n      <td>CHN</td>\n      <td>China</td>\n      <td>Beijing</td>\n      <td>Asia</td>\n      <td>1.425887e+09</td>\n      <td>1.424930e+09</td>\n      <td>1.393715e+09</td>\n      <td>1.348191e+09</td>\n      <td>1.264099e+09</td>\n      <td>1.153704e+09</td>\n      <td>982372466.0</td>\n      <td>822534450.0</td>\n      <td>9706961.0</td>\n      <td>146.8933</td>\n      <td>1.0000</td>\n      <td>17.88</td>\n    </tr>\n    <tr>\n      <th>92</th>\n      <td>2</td>\n      <td>IND</td>\n      <td>India</td>\n      <td>New Delhi</td>\n      <td>Asia</td>\n      <td>1.417173e+09</td>\n      <td>1.396387e+09</td>\n      <td>1.322867e+09</td>\n      <td>1.240614e+09</td>\n      <td>1.059634e+09</td>\n      <td>NaN</td>\n      <td>NaN</td>\n      <td>557501301.0</td>\n      <td>3287590.0</td>\n      <td>431.0675</td>\n      <td>1.0068</td>\n      <td>17.77</td>\n    </tr>\n    <tr>\n      <th>221</th>\n      <td>3</td>\n      <td>USA</td>\n      <td>United States</td>\n      <td>Washington, D.C.</td>\n      <td>North America</td>\n      <td>3.382899e+08</td>\n      <td>3.359420e+08</td>\n      <td>3.246078e+08</td>\n      <td>3.111828e+08</td>\n      <td>2.823986e+08</td>\n      <td>2.480837e+08</td>\n      <td>223140018.0</td>\n      <td>200328340.0</td>\n      <td>9372610.0</td>\n      <td>36.0935</td>\n      <td>1.0038</td>\n      <td>4.24</td>\n    </tr>\n    <tr>\n      <th>93</th>\n      <td>4</td>\n      <td>IDN</td>\n      <td>Indonesia</td>\n      <td>Jakarta</td>\n      <td>Asia</td>\n      <td>2.755013e+08</td>\n      <td>2.718580e+08</td>\n      <td>2.590920e+08</td>\n      <td>2.440162e+08</td>\n      <td>2.140724e+08</td>\n      <td>1.821599e+08</td>\n      <td>148177096.0</td>\n      <td>115228394.0</td>\n      <td>1904569.0</td>\n      <td>144.6529</td>\n      <td>1.0064</td>\n      <td>3.45</td>\n    </tr>\n    <tr>\n      <th>156</th>\n      <td>5</td>\n      <td>PAK</td>\n      <td>Pakistan</td>\n      <td>Islamabad</td>\n      <td>Asia</td>\n      <td>2.358249e+08</td>\n      <td>2.271967e+08</td>\n      <td>2.109693e+08</td>\n      <td>1.944545e+08</td>\n      <td>1.543699e+08</td>\n      <td>1.154141e+08</td>\n      <td>80624057.0</td>\n      <td>59290872.0</td>\n      <td>881912.0</td>\n      <td>267.4018</td>\n      <td>1.0191</td>\n      <td>2.96</td>\n    </tr>\n    <tr>\n      <th>149</th>\n      <td>6</td>\n      <td>NGA</td>\n      <td>Nigeria</td>\n      <td>Abuja</td>\n      <td>Africa</td>\n      <td>2.185412e+08</td>\n      <td>2.083274e+08</td>\n      <td>1.839958e+08</td>\n      <td>1.609529e+08</td>\n      <td>1.228520e+08</td>\n      <td>9.521426e+07</td>\n      <td>72951439.0</td>\n      <td>55569264.0</td>\n      <td>923768.0</td>\n      <td>236.5759</td>\n      <td>1.0241</td>\n      <td>2.74</td>\n    </tr>\n    <tr>\n      <th>27</th>\n      <td>7</td>\n      <td>BRA</td>\n      <td>Brazil</td>\n      <td>Brasilia</td>\n      <td>South America</td>\n      <td>2.153135e+08</td>\n      <td>2.131963e+08</td>\n      <td>2.051882e+08</td>\n      <td>1.963535e+08</td>\n      <td>1.758737e+08</td>\n      <td>1.507064e+08</td>\n      <td>122288383.0</td>\n      <td>96369875.0</td>\n      <td>8515767.0</td>\n      <td>25.2841</td>\n      <td>1.0046</td>\n      <td>2.70</td>\n    </tr>\n    <tr>\n      <th>16</th>\n      <td>8</td>\n      <td>BGD</td>\n      <td>Bangladesh</td>\n      <td>Dhaka</td>\n      <td>Asia</td>\n      <td>1.711864e+08</td>\n      <td>1.674210e+08</td>\n      <td>1.578300e+08</td>\n      <td>1.483911e+08</td>\n      <td>1.291933e+08</td>\n      <td>1.071477e+08</td>\n      <td>83929765.0</td>\n      <td>67541860.0</td>\n      <td>147570.0</td>\n      <td>1160.0350</td>\n      <td>1.0108</td>\n      <td>2.15</td>\n    </tr>\n    <tr>\n      <th>171</th>\n      <td>9</td>\n      <td>RUS</td>\n      <td>Russia</td>\n      <td>Moscow</td>\n      <td>Europe</td>\n      <td>1.447133e+08</td>\n      <td>1.456173e+08</td>\n      <td>1.446684e+08</td>\n      <td>1.432426e+08</td>\n      <td>1.468448e+08</td>\n      <td>1.480057e+08</td>\n      <td>138257420.0</td>\n      <td>130093010.0</td>\n      <td>17098242.0</td>\n      <td>8.4636</td>\n      <td>0.9973</td>\n      <td>1.81</td>\n    </tr>\n    <tr>\n      <th>131</th>\n      <td>10</td>\n      <td>MEX</td>\n      <td>Mexico</td>\n      <td>Mexico City</td>\n      <td>North America</td>\n      <td>1.275041e+08</td>\n      <td>1.259983e+08</td>\n      <td>1.201499e+08</td>\n      <td>1.125324e+08</td>\n      <td>9.787344e+07</td>\n      <td>8.172043e+07</td>\n      <td>67705186.0</td>\n      <td>50289306.0</td>\n      <td>1964375.0</td>\n      <td>64.9082</td>\n      <td>1.0063</td>\n      <td>1.60</td>\n    </tr>\n  </tbody>\n</table>\n</div>"
     },
     "execution_count": 50,
     "metadata": {},
     "output_type": "execute_result"
    }
   ],
   "source": [
    "df[df['Rank'] <= 10].sort_values(by=['Rank', 'Country'], ascending=True)"
   ],
   "metadata": {
    "collapsed": false,
    "ExecuteTime": {
     "end_time": "2025-10-05T09:59:57.549897200Z",
     "start_time": "2025-10-05T09:59:57.502657300Z"
    }
   }
  },
  {
   "cell_type": "code",
   "execution_count": null,
   "outputs": [],
   "source": [],
   "metadata": {
    "collapsed": false
   }
  }
 ],
 "metadata": {
  "kernelspec": {
   "display_name": "Python 3",
   "language": "python",
   "name": "python3"
  },
  "language_info": {
   "codemirror_mode": {
    "name": "ipython",
    "version": 2
   },
   "file_extension": ".py",
   "mimetype": "text/x-python",
   "name": "python",
   "nbconvert_exporter": "python",
   "pygments_lexer": "ipython2",
   "version": "2.7.6"
  }
 },
 "nbformat": 4,
 "nbformat_minor": 0
}
